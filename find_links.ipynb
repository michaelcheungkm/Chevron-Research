{
 "cells": [
  {
   "cell_type": "code",
   "execution_count": 1,
   "id": "dcc54410",
   "metadata": {},
   "outputs": [],
   "source": [
    "import warnings\n",
    "warnings.filterwarnings('ignore')"
   ]
  },
  {
   "cell_type": "code",
   "execution_count": 2,
   "id": "1610fe19",
   "metadata": {},
   "outputs": [],
   "source": [
    "from selenium import webdriver\n",
    "from selenium.webdriver.chrome.options import Options\n",
    "from selenium.webdriver.common.by import By\n",
    "\n",
    "options = Options()\n",
    "options.headless = True\n",
    "options.add_argument(\"--window-size=1920,1200\")\n",
    "\n",
    "article_list = []\n",
    "\n",
    "DRIVER_PATH = 'path/chromedriver'\n",
    "driver = webdriver.Chrome(options=options, executable_path=DRIVER_PATH)\n",
    "\n",
    "search_term = \"glucose\"\n",
    "search_url = \"https://pubmed.ncbi.nlm.nih.gov/?term=\" + search_term\n",
    "    \n",
    "driver.get(search_url)\n",
    "for i in range(5):\n",
    "    docsum_titles = driver.find_elements(By.CLASS_NAME, \"docsum-title\")\n",
    "    for title in docsum_titles:\n",
    "        article_list.append(title.get_attribute('href'))\n",
    "    next_button = driver.find_element(By.CLASS_NAME, \"next-page-btn\")\n",
    "    next_button.click()\n",
    "    \n",
    "driver.quit()"
   ]
  },
  {
   "cell_type": "code",
   "execution_count": 3,
   "id": "7de12118",
   "metadata": {},
   "outputs": [
    {
     "data": {
      "text/plain": [
       "['https://pubmed.ncbi.nlm.nih.gov/30529977/',\n",
       " 'https://pubmed.ncbi.nlm.nih.gov/33310176/',\n",
       " 'https://pubmed.ncbi.nlm.nih.gov/31811968/',\n",
       " 'https://pubmed.ncbi.nlm.nih.gov/33982146/',\n",
       " 'https://pubmed.ncbi.nlm.nih.gov/9537626/',\n",
       " 'https://pubmed.ncbi.nlm.nih.gov/25974371/',\n",
       " 'https://pubmed.ncbi.nlm.nih.gov/34536506/',\n",
       " 'https://pubmed.ncbi.nlm.nih.gov/28679707/',\n",
       " 'https://pubmed.ncbi.nlm.nih.gov/23294795/',\n",
       " 'https://pubmed.ncbi.nlm.nih.gov/31227228/',\n",
       " 'https://pubmed.ncbi.nlm.nih.gov/8782186/',\n",
       " 'https://pubmed.ncbi.nlm.nih.gov/33754908/',\n",
       " 'https://pubmed.ncbi.nlm.nih.gov/32079357/',\n",
       " 'https://pubmed.ncbi.nlm.nih.gov/31004924/',\n",
       " 'https://pubmed.ncbi.nlm.nih.gov/11840219/',\n",
       " 'https://pubmed.ncbi.nlm.nih.gov/15930973/',\n",
       " 'https://pubmed.ncbi.nlm.nih.gov/34137085/',\n",
       " 'https://pubmed.ncbi.nlm.nih.gov/33168619/',\n",
       " 'https://pubmed.ncbi.nlm.nih.gov/17563473/',\n",
       " 'https://pubmed.ncbi.nlm.nih.gov/29210267/',\n",
       " 'https://pubmed.ncbi.nlm.nih.gov/30442878/',\n",
       " 'https://pubmed.ncbi.nlm.nih.gov/13632072/',\n",
       " 'https://pubmed.ncbi.nlm.nih.gov/31335146/',\n",
       " 'https://pubmed.ncbi.nlm.nih.gov/32111494/',\n",
       " 'https://pubmed.ncbi.nlm.nih.gov/2188984/',\n",
       " 'https://pubmed.ncbi.nlm.nih.gov/16380470/',\n",
       " 'https://pubmed.ncbi.nlm.nih.gov/29884376/',\n",
       " 'https://pubmed.ncbi.nlm.nih.gov/25527036/',\n",
       " 'https://pubmed.ncbi.nlm.nih.gov/23559221/',\n",
       " 'https://pubmed.ncbi.nlm.nih.gov/26576942/',\n",
       " 'https://pubmed.ncbi.nlm.nih.gov/11255798/',\n",
       " 'https://pubmed.ncbi.nlm.nih.gov/32826256/',\n",
       " 'https://pubmed.ncbi.nlm.nih.gov/29102137/',\n",
       " 'https://pubmed.ncbi.nlm.nih.gov/28672191/',\n",
       " 'https://pubmed.ncbi.nlm.nih.gov/29023095/',\n",
       " 'https://pubmed.ncbi.nlm.nih.gov/35467662/',\n",
       " 'https://pubmed.ncbi.nlm.nih.gov/1937629/',\n",
       " 'https://pubmed.ncbi.nlm.nih.gov/1927683/',\n",
       " 'https://pubmed.ncbi.nlm.nih.gov/31686527/',\n",
       " 'https://pubmed.ncbi.nlm.nih.gov/30755098/',\n",
       " 'https://pubmed.ncbi.nlm.nih.gov/28707/',\n",
       " 'https://pubmed.ncbi.nlm.nih.gov/7241890/',\n",
       " 'https://pubmed.ncbi.nlm.nih.gov/9077526/',\n",
       " 'https://pubmed.ncbi.nlm.nih.gov/29802832/',\n",
       " 'https://pubmed.ncbi.nlm.nih.gov/8487668/',\n",
       " 'https://pubmed.ncbi.nlm.nih.gov/2342143/',\n",
       " 'https://pubmed.ncbi.nlm.nih.gov/26987885/',\n",
       " 'https://pubmed.ncbi.nlm.nih.gov/16488658/',\n",
       " 'https://pubmed.ncbi.nlm.nih.gov/30300416/',\n",
       " 'https://pubmed.ncbi.nlm.nih.gov/28822313/']"
      ]
     },
     "execution_count": 3,
     "metadata": {},
     "output_type": "execute_result"
    }
   ],
   "source": [
    "article_list"
   ]
  },
  {
   "cell_type": "code",
   "execution_count": 5,
   "id": "40e80804",
   "metadata": {},
   "outputs": [],
   "source": [
    "import pandas as pd\n",
    "\n",
    "article_dict = {\n",
    "    \"search_url\": article_list\n",
    "}\n",
    "\n",
    "df = pd.DataFrame(article_dict)\n",
    "out_name = \"keyword_links/\" + search_term + \"_links.csv\"\n",
    "df.to_csv(out_name)"
   ]
  },
  {
   "cell_type": "code",
   "execution_count": null,
   "id": "7d342172",
   "metadata": {},
   "outputs": [],
   "source": []
  }
 ],
 "metadata": {
  "kernelspec": {
   "display_name": "Python 3 (ipykernel)",
   "language": "python",
   "name": "python3"
  },
  "language_info": {
   "codemirror_mode": {
    "name": "ipython",
    "version": 3
   },
   "file_extension": ".py",
   "mimetype": "text/x-python",
   "name": "python",
   "nbconvert_exporter": "python",
   "pygments_lexer": "ipython3",
   "version": "3.9.13"
  }
 },
 "nbformat": 4,
 "nbformat_minor": 5
}
